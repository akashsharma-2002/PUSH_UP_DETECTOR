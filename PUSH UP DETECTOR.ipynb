{
 "cells": [
  {
   "cell_type": "markdown",
   "id": "275328cd",
   "metadata": {},
   "source": [
    "# PUSH UP DETECTOR"
   ]
  },
  {
   "cell_type": "markdown",
   "id": "a77d6751",
   "metadata": {},
   "source": [
    "Importing necessary libraries"
   ]
  },
  {
   "cell_type": "code",
   "execution_count": 26,
   "id": "9f1a37cf",
   "metadata": {},
   "outputs": [],
   "source": [
    "import mediapipe as mp"
   ]
  },
  {
   "cell_type": "code",
   "execution_count": 27,
   "id": "a5d1f2ba",
   "metadata": {},
   "outputs": [],
   "source": [
    "import tensorflow as tf"
   ]
  },
  {
   "cell_type": "code",
   "execution_count": 28,
   "id": "de4ca57b",
   "metadata": {},
   "outputs": [],
   "source": [
    "import time"
   ]
  },
  {
   "cell_type": "code",
   "execution_count": 29,
   "id": "91ce9913",
   "metadata": {},
   "outputs": [],
   "source": [
    "import cv2\n",
    "import numpy as np\n",
    "import tensorflow as tf\n"
   ]
  },
  {
   "cell_type": "code",
   "execution_count": 30,
   "id": "aa86e354",
   "metadata": {},
   "outputs": [
    {
     "name": "stdout",
     "output_type": "stream",
     "text": [
      "Requirement already satisfied: cvzone in ./miniforge3/lib/python3.10/site-packages (1.5.6)\r\n",
      "Requirement already satisfied: opencv-python in ./miniforge3/lib/python3.10/site-packages (from cvzone) (4.7.0.72)\r\n",
      "Requirement already satisfied: numpy in ./miniforge3/lib/python3.10/site-packages (from cvzone) (1.24.3)\r\n"
     ]
    }
   ],
   "source": [
    "!pip install cvzone\n"
   ]
  },
  {
   "cell_type": "markdown",
   "id": "ea090289",
   "metadata": {},
   "source": [
    "Utilizing cvzone to download PoseModel"
   ]
  },
  {
   "cell_type": "code",
   "execution_count": 31,
   "id": "b5b7c6aa",
   "metadata": {},
   "outputs": [],
   "source": [
    "import cv2\n",
    "import numpy as np\n",
    "import cvzone\n",
    "from cvzone.PoseModule import PoseDetector\n",
    "import math"
   ]
  },
  {
   "cell_type": "code",
   "execution_count": 32,
   "id": "9a1c87ab",
   "metadata": {},
   "outputs": [],
   "source": [
    "model = tf.keras.applications.MobileNetV2()\n"
   ]
  },
  {
   "cell_type": "markdown",
   "id": "a338624e",
   "metadata": {},
   "source": [
    "writing the Programme"
   ]
  },
  {
   "cell_type": "code",
   "execution_count": 34,
   "id": "f29e711f",
   "metadata": {},
   "outputs": [],
   "source": [
    "\n",
    "cap = cv2.VideoCapture(0) #using live camera we have used 0 \n",
    "pd = PoseDetector(trackCon=0.70, detectionCon=0.70)\n",
    "\n",
    "def angles(lmlist, p1, p2, p3, p4, p5, p6, drawpoints): # drawing certain pattern around for detection on live camera\n",
    "    if len(lmlist) != 0:\n",
    "        point1 = lmlist[p1]\n",
    "        point2 = lmlist[p2]\n",
    "        point3 = lmlist[p3]\n",
    "        point4 = lmlist[p4]\n",
    "        point5 = lmlist[p5]\n",
    "        point6 = lmlist[p6]\n",
    "\n",
    "        x1, y1 = point1[1:-1]\n",
    "        x2, y2 = point2[1:-1]\n",
    "        x3, y3 = point3[1:-1]\n",
    "        x4, y4 = point4[1:-1]\n",
    "        x5, y5 = point5[1:-1]\n",
    "        x6, y6 = point6[1:-1]\n",
    "\n",
    "        if drawpoints:\n",
    "            \n",
    "            # Draw the points and lines\n",
    "            cv2.circle(img,(x1,y1),10,(255,0,255),5)\n",
    "            cv2.circle(img, (x1, y1), 15, (0,255, 0),5)\n",
    "            cv2.circle(img, (x2, y2), 10, (255, 0, 255), 5)\n",
    "            cv2.circle(img, (x2, y2), 15, (0, 255, 0), 5)\n",
    "            cv2.circle(img, (x3, y3), 10, (255, 0, 255), 5)\n",
    "            cv2.circle(img, (x3, y3), 15, (0, 255, 0), 5)\n",
    "            cv2.circle(img, (x4, y4), 10, (255, 0, 255), 5)\n",
    "            cv2.circle(img, (x4, y4), 15, (0, 255, 0), 5)\n",
    "            cv2.circle(img, (x5, y5), 10, (255, 0, 255), 5)\n",
    "            cv2.circle(img, (x5, y5), 15, (0, 255, 0), 5)\n",
    "            cv2.circle(img, (x6, y6), 10, (255, 0, 255), 5)\n",
    "            cv2.circle(img, (x6, y6), 15, (0, 255, 0), 5)\n",
    "\n",
    "            cv2.line(img,(x1,y1),(x2,y2),(0,0,255),6)\n",
    "            cv2.line(img, (x2,y2), (x3, y3), (0, 0, 255), 6)\n",
    "            cv2.line(img, (x4, y4), (x5, y5), (0, 0, 255), 6)\n",
    "            cv2.line(img, (x5, y5), (x6, y6), (0, 0, 255), 6)\n",
    "            cv2.line(img, (x1, y1), (x4, y4), (0, 0, 255), 6)\n",
    "\n",
    "\n",
    "        lefthandangle = math.degrees(math.atan2(y3 - y2, x3 - x2) -\n",
    "                                      math.atan2(y1 - y2, x1 - x2))\n",
    "\n",
    "        righthandangle = math.degrees(math.atan2(y6 - y5, x6 - x5) -\n",
    "                                       math.atan2(y4 - y5, x4 - x5))\n",
    "\n",
    "        leftHandAngle = int(np.interp(lefthandangle, [-30, 180], [100, 0]))\n",
    "        rightHandAngle = int(np.interp(righthandangle, [34, 173], [100, 0]))\n",
    "\n",
    "        left, right = leftHandAngle, rightHandAngle\n",
    "\n",
    "        if left >= 70 and right >= 70:\n",
    "            cv2.putText(img, \"PUSHUP\", (20, 140), cv2.FONT_HERSHEY_SCRIPT_SIMPLEX, 1.6, (0, 0, 255), 7)\n",
    "        else:\n",
    "            cv2.putText(img, \"NOT A PUSHUP\", (20, 140), cv2.FONT_HERSHEY_SCRIPT_SIMPLEX, 1.6, (0, 0, 255), 7)\n",
    "\n",
    "while True:\n",
    "    ret, img = cap.read() #reading the camera\n",
    "    if not ret:\n",
    "        cap = cv2.VideoCapture(0)\n",
    "        continue\n",
    "\n",
    "    img = cv2.resize(img, (1000, 500))\n",
    "    cvzone.putTextRect(img, 'Push Up Detector', [345, 30], thickness=2, border=2, scale=2.5)\n",
    "    pd.findPose(img, draw=0)\n",
    "    lmlist, bbox = pd.findPosition(img, draw=0, bboxWithHands=0)\n",
    "\n",
    "    angles(lmlist, 11, 13, 15, 12, 14, 16, drawpoints=True)\n",
    "\n",
    "    cv2.imshow('frame', img)\n",
    "    if cv2.waitKey(1) & 0xFF == ord('q'):\n",
    "        break\n",
    "\n",
    "cap.release()\n",
    "cv2.destroyAllWindows() #ending \n"
   ]
  },
  {
   "cell_type": "code",
   "execution_count": null,
   "id": "3bb51546",
   "metadata": {},
   "outputs": [],
   "source": []
  }
 ],
 "metadata": {
  "kernelspec": {
   "display_name": "Python 3 (ipykernel)",
   "language": "python",
   "name": "python3"
  },
  "language_info": {
   "codemirror_mode": {
    "name": "ipython",
    "version": 3
   },
   "file_extension": ".py",
   "mimetype": "text/x-python",
   "name": "python",
   "nbconvert_exporter": "python",
   "pygments_lexer": "ipython3",
   "version": "3.10.10"
  }
 },
 "nbformat": 4,
 "nbformat_minor": 5
}
